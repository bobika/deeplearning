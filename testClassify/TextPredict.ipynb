{
 "cells": [
  {
   "cell_type": "code",
   "execution_count": 1,
   "metadata": {},
   "outputs": [
    {
     "name": "stdout",
     "output_type": "stream",
     "text": [
      "Downloading data from https://s3.amazonaws.com/text-datasets/imdb.npz\n",
      "17465344/17464789 [==============================] - 41s 2us/step\n"
     ]
    }
   ],
   "source": [
    "import tensorflow as tf\n",
    "from tensorflow import keras\n",
    "\n",
    "import numpy as np\n",
    "imdb = keras.datasets.imdb\n",
    "\n",
    "(train_data, train_labels), (test_data, test_labels) = imdb.load_data(num_words=10000)"
   ]
  },
  {
   "cell_type": "code",
   "execution_count": 2,
   "metadata": {},
   "outputs": [
    {
     "name": "stdout",
     "output_type": "stream",
     "text": [
      "Training entries: 25000, labels: 25000\n"
     ]
    }
   ],
   "source": [
    "print(\"Training entries: {}, labels: {}\".format(len(train_data), len(train_labels)))"
   ]
  },
  {
   "cell_type": "code",
   "execution_count": 3,
   "metadata": {},
   "outputs": [
    {
     "name": "stdout",
     "output_type": "stream",
     "text": [
      "[1, 14, 22, 16, 43, 530, 973, 1622, 1385, 65, 458, 4468, 66, 3941, 4, 173, 36, 256, 5, 25, 100, 43, 838, 112, 50, 670, 2, 9, 35, 480, 284, 5, 150, 4, 172, 112, 167, 2, 336, 385, 39, 4, 172, 4536, 1111, 17, 546, 38, 13, 447, 4, 192, 50, 16, 6, 147, 2025, 19, 14, 22, 4, 1920, 4613, 469, 4, 22, 71, 87, 12, 16, 43, 530, 38, 76, 15, 13, 1247, 4, 22, 17, 515, 17, 12, 16, 626, 18, 2, 5, 62, 386, 12, 8, 316, 8, 106, 5, 4, 2223, 5244, 16, 480, 66, 3785, 33, 4, 130, 12, 16, 38, 619, 5, 25, 124, 51, 36, 135, 48, 25, 1415, 33, 6, 22, 12, 215, 28, 77, 52, 5, 14, 407, 16, 82, 2, 8, 4, 107, 117, 5952, 15, 256, 4, 2, 7, 3766, 5, 723, 36, 71, 43, 530, 476, 26, 400, 317, 46, 7, 4, 2, 1029, 13, 104, 88, 4, 381, 15, 297, 98, 32, 2071, 56, 26, 141, 6, 194, 7486, 18, 4, 226, 22, 21, 134, 476, 26, 480, 5, 144, 30, 5535, 18, 51, 36, 28, 224, 92, 25, 104, 4, 226, 65, 16, 38, 1334, 88, 12, 16, 283, 5, 16, 4472, 113, 103, 32, 15, 16, 5345, 19, 178, 32]\n"
     ]
    }
   ],
   "source": [
    "print(train_data[0])"
   ]
  },
  {
   "cell_type": "code",
   "execution_count": 4,
   "metadata": {},
   "outputs": [
    {
     "data": {
      "text/plain": [
       "(218, 189)"
      ]
     },
     "execution_count": 4,
     "metadata": {},
     "output_type": "execute_result"
    }
   ],
   "source": [
    "len(train_data[0]), len(train_data[1])"
   ]
  },
  {
   "cell_type": "code",
   "execution_count": 5,
   "metadata": {},
   "outputs": [
    {
     "name": "stdout",
     "output_type": "stream",
     "text": [
      "Downloading data from https://s3.amazonaws.com/text-datasets/imdb_word_index.json\n",
      "1646592/1641221 [==============================] - 30s 18us/step\n"
     ]
    }
   ],
   "source": [
    "# A dictionary mapping words to an integer index\n",
    "word_index = imdb.get_word_index()\n",
    "\n",
    "# The first indices are reserved\n",
    "word_index = {k:(v+3) for k,v in word_index.items()}\n",
    "word_index[\"<PAD>\"] = 0\n",
    "word_index[\"<START>\"] = 1\n",
    "word_index[\"<UNK>\"] = 2  # unknown\n",
    "word_index[\"<UNUSED>\"] = 3\n",
    "\n",
    "reverse_word_index = dict([(value, key) for (key, value) in word_index.items()])\n",
    "#辅助函数来查询包含整数到字符串映射的字典对象：\n",
    "def decode_review(text):\n",
    "    return ' '.join([reverse_word_index.get(i, '?') for i in text])"
   ]
  },
  {
   "cell_type": "code",
   "execution_count": 6,
   "metadata": {},
   "outputs": [
    {
     "data": {
      "text/plain": [
       "\"<START> this film was just brilliant casting location scenery story direction everyone's really suited the part they played and you could just imagine being there robert <UNK> is an amazing actor and now the same being director <UNK> father came from the same scottish island as myself so i loved the fact there was a real connection with this film the witty remarks throughout the film were great it was just brilliant so much that i bought the film as soon as it was released for <UNK> and would recommend it to everyone to watch and the fly fishing was amazing really cried at the end it was so sad and you know what they say if you cry at a film it must have been good and this definitely was also <UNK> to the two little boy's that played the <UNK> of norman and paul they were just brilliant children are often left out of the <UNK> list i think because the stars that play them all grown up are such a big profile for the whole film but these children are amazing and should be praised for what they have done don't you think the whole story was so lovely because it was true and was someone's life after all that was shared with us all\""
      ]
     },
     "execution_count": 6,
     "metadata": {},
     "output_type": "execute_result"
    }
   ],
   "source": [
    "decode_review(train_data[0])"
   ]
  },
  {
   "cell_type": "code",
   "execution_count": 7,
   "metadata": {},
   "outputs": [],
   "source": [
    "train_data = keras.preprocessing.sequence.pad_sequences(train_data,\n",
    "                                                        value=word_index[\"<PAD>\"],\n",
    "                                                        padding='post',\n",
    "                                                        maxlen=256)\n",
    "\n",
    "test_data = keras.preprocessing.sequence.pad_sequences(test_data,\n",
    "                                                       value=word_index[\"<PAD>\"],\n",
    "                                                       padding='post',\n",
    "                                                       maxlen=256)"
   ]
  },
  {
   "cell_type": "code",
   "execution_count": 8,
   "metadata": {},
   "outputs": [
    {
     "data": {
      "text/plain": [
       "(256, 256)"
      ]
     },
     "execution_count": 8,
     "metadata": {},
     "output_type": "execute_result"
    }
   ],
   "source": [
    "len(train_data[0]), len(train_data[1])"
   ]
  },
  {
   "cell_type": "code",
   "execution_count": 9,
   "metadata": {},
   "outputs": [
    {
     "name": "stdout",
     "output_type": "stream",
     "text": [
      "[   1   14   22   16   43  530  973 1622 1385   65  458 4468   66 3941\n",
      "    4  173   36  256    5   25  100   43  838  112   50  670    2    9\n",
      "   35  480  284    5  150    4  172  112  167    2  336  385   39    4\n",
      "  172 4536 1111   17  546   38   13  447    4  192   50   16    6  147\n",
      " 2025   19   14   22    4 1920 4613  469    4   22   71   87   12   16\n",
      "   43  530   38   76   15   13 1247    4   22   17  515   17   12   16\n",
      "  626   18    2    5   62  386   12    8  316    8  106    5    4 2223\n",
      " 5244   16  480   66 3785   33    4  130   12   16   38  619    5   25\n",
      "  124   51   36  135   48   25 1415   33    6   22   12  215   28   77\n",
      "   52    5   14  407   16   82    2    8    4  107  117 5952   15  256\n",
      "    4    2    7 3766    5  723   36   71   43  530  476   26  400  317\n",
      "   46    7    4    2 1029   13  104   88    4  381   15  297   98   32\n",
      " 2071   56   26  141    6  194 7486   18    4  226   22   21  134  476\n",
      "   26  480    5  144   30 5535   18   51   36   28  224   92   25  104\n",
      "    4  226   65   16   38 1334   88   12   16  283    5   16 4472  113\n",
      "  103   32   15   16 5345   19  178   32    0    0    0    0    0    0\n",
      "    0    0    0    0    0    0    0    0    0    0    0    0    0    0\n",
      "    0    0    0    0    0    0    0    0    0    0    0    0    0    0\n",
      "    0    0    0    0]\n"
     ]
    }
   ],
   "source": [
    "print(train_data[0])"
   ]
  },
  {
   "cell_type": "code",
   "execution_count": 10,
   "metadata": {},
   "outputs": [
    {
     "name": "stdout",
     "output_type": "stream",
     "text": [
      "_________________________________________________________________\n",
      "Layer (type)                 Output Shape              Param #   \n",
      "=================================================================\n",
      "embedding_1 (Embedding)      (None, None, 16)          160000    \n",
      "_________________________________________________________________\n",
      "global_average_pooling1d_1 ( (None, 16)                0         \n",
      "_________________________________________________________________\n",
      "dense_1 (Dense)              (None, 16)                272       \n",
      "_________________________________________________________________\n",
      "dense_2 (Dense)              (None, 1)                 17        \n",
      "=================================================================\n",
      "Total params: 160,289\n",
      "Trainable params: 160,289\n",
      "Non-trainable params: 0\n",
      "_________________________________________________________________\n"
     ]
    }
   ],
   "source": [
    "# input shape is the vocabulary count used for the movie reviews (10,000 words)\n",
    "vocab_size = 10000\n",
    "\n",
    "model = keras.Sequential()\n",
    "model.add(keras.layers.Embedding(vocab_size, 16))\n",
    "model.add(keras.layers.GlobalAveragePooling1D())\n",
    "model.add(keras.layers.Dense(16, activation=tf.nn.relu))\n",
    "model.add(keras.layers.Dense(1, activation=tf.nn.sigmoid))\n",
    "\n",
    "model.summary()"
   ]
  },
  {
   "cell_type": "code",
   "execution_count": 11,
   "metadata": {},
   "outputs": [],
   "source": [
    "model.compile(optimizer=tf.train.AdamOptimizer(),\n",
    "              loss='binary_crossentropy',\n",
    "              metrics=['accuracy'])"
   ]
  },
  {
   "cell_type": "code",
   "execution_count": 12,
   "metadata": {},
   "outputs": [],
   "source": [
    "x_val = train_data[:10000]\n",
    "partial_x_train = train_data[10000:]\n",
    "\n",
    "y_val = train_labels[:10000]\n",
    "partial_y_train = train_labels[10000:]"
   ]
  },
  {
   "cell_type": "code",
   "execution_count": 13,
   "metadata": {},
   "outputs": [
    {
     "name": "stdout",
     "output_type": "stream",
     "text": [
      "Train on 15000 samples, validate on 10000 samples\n",
      "Epoch 1/40\n",
      "15000/15000 [==============================] - 4s 291us/step - loss: 0.6932 - acc: 0.5026 - val_loss: 0.6925 - val_acc: 0.5129\n",
      "Epoch 2/40\n",
      "15000/15000 [==============================] - 1s 73us/step - loss: 0.6912 - acc: 0.5473 - val_loss: 0.6905 - val_acc: 0.6059\n",
      "Epoch 3/40\n",
      "15000/15000 [==============================] - 1s 93us/step - loss: 0.6890 - acc: 0.5945 - val_loss: 0.6886 - val_acc: 0.5478\n",
      "Epoch 4/40\n",
      "15000/15000 [==============================] - 1s 86us/step - loss: 0.6861 - acc: 0.6378 - val_loss: 0.6861 - val_acc: 0.5190\n",
      "Epoch 5/40\n",
      "15000/15000 [==============================] - 1s 88us/step - loss: 0.6823 - acc: 0.6628 - val_loss: 0.6811 - val_acc: 0.7373\n",
      "Epoch 6/40\n",
      "15000/15000 [==============================] - 1s 89us/step - loss: 0.6769 - acc: 0.7527 - val_loss: 0.6754 - val_acc: 0.7487\n",
      "Epoch 7/40\n",
      "15000/15000 [==============================] - 1s 88us/step - loss: 0.6692 - acc: 0.7597 - val_loss: 0.6675 - val_acc: 0.7484\n",
      "Epoch 8/40\n",
      "15000/15000 [==============================] - 1s 91us/step - loss: 0.6587 - acc: 0.7660 - val_loss: 0.6568 - val_acc: 0.7426\n",
      "Epoch 9/40\n",
      "15000/15000 [==============================] - 1s 93us/step - loss: 0.6449 - acc: 0.7702 - val_loss: 0.6419 - val_acc: 0.7616\n",
      "Epoch 10/40\n",
      "15000/15000 [==============================] - 1s 84us/step - loss: 0.6268 - acc: 0.7847 - val_loss: 0.6235 - val_acc: 0.7685\n",
      "Epoch 11/40\n",
      "15000/15000 [==============================] - 1s 93us/step - loss: 0.6052 - acc: 0.7783 - val_loss: 0.6033 - val_acc: 0.7709\n",
      "Epoch 12/40\n",
      "15000/15000 [==============================] - 1s 87us/step - loss: 0.5802 - acc: 0.7951 - val_loss: 0.5786 - val_acc: 0.7841\n",
      "Epoch 13/40\n",
      "15000/15000 [==============================] - 1s 88us/step - loss: 0.5526 - acc: 0.8072 - val_loss: 0.5542 - val_acc: 0.7918\n",
      "Epoch 14/40\n",
      "15000/15000 [==============================] - 1s 92us/step - loss: 0.5248 - acc: 0.8164 - val_loss: 0.5284 - val_acc: 0.8031\n",
      "Epoch 15/40\n",
      "15000/15000 [==============================] - 1s 81us/step - loss: 0.4965 - acc: 0.8281 - val_loss: 0.5031 - val_acc: 0.8116\n",
      "Epoch 16/40\n",
      "15000/15000 [==============================] - 1s 78us/step - loss: 0.4697 - acc: 0.8371 - val_loss: 0.4797 - val_acc: 0.8212\n",
      "Epoch 17/40\n",
      "15000/15000 [==============================] - 1s 82us/step - loss: 0.4433 - acc: 0.8492 - val_loss: 0.4578 - val_acc: 0.8310\n",
      "Epoch 18/40\n",
      "15000/15000 [==============================] - 1s 85us/step - loss: 0.4193 - acc: 0.8573 - val_loss: 0.4372 - val_acc: 0.8376\n",
      "Epoch 19/40\n",
      "15000/15000 [==============================] - 1s 84us/step - loss: 0.3973 - acc: 0.8650 - val_loss: 0.4190 - val_acc: 0.8431\n",
      "Epoch 20/40\n",
      "15000/15000 [==============================] - 1s 92us/step - loss: 0.3776 - acc: 0.8714 - val_loss: 0.4031 - val_acc: 0.8483\n",
      "Epoch 21/40\n",
      "15000/15000 [==============================] - 1s 86us/step - loss: 0.3594 - acc: 0.8775 - val_loss: 0.3888 - val_acc: 0.8526\n",
      "Epoch 22/40\n",
      "15000/15000 [==============================] - 1s 86us/step - loss: 0.3433 - acc: 0.8827 - val_loss: 0.3765 - val_acc: 0.8566\n",
      "Epoch 23/40\n",
      "15000/15000 [==============================] - 1s 88us/step - loss: 0.3291 - acc: 0.8871 - val_loss: 0.3660 - val_acc: 0.8596\n",
      "Epoch 24/40\n",
      "15000/15000 [==============================] - 1s 90us/step - loss: 0.3158 - acc: 0.8915 - val_loss: 0.3564 - val_acc: 0.8644\n",
      "Epoch 25/40\n",
      "15000/15000 [==============================] - 1s 99us/step - loss: 0.3040 - acc: 0.8967 - val_loss: 0.3481 - val_acc: 0.8680\n",
      "Epoch 26/40\n",
      "15000/15000 [==============================] - 1s 95us/step - loss: 0.2932 - acc: 0.8994 - val_loss: 0.3409 - val_acc: 0.8693\n",
      "Epoch 27/40\n",
      "15000/15000 [==============================] - 1s 77us/step - loss: 0.2837 - acc: 0.9001 - val_loss: 0.3344 - val_acc: 0.8707\n",
      "Epoch 28/40\n",
      "15000/15000 [==============================] - 1s 76us/step - loss: 0.2743 - acc: 0.9043 - val_loss: 0.3286 - val_acc: 0.8738\n",
      "Epoch 29/40\n",
      "15000/15000 [==============================] - 1s 90us/step - loss: 0.2658 - acc: 0.9077 - val_loss: 0.3238 - val_acc: 0.8747\n",
      "Epoch 30/40\n",
      "15000/15000 [==============================] - 1s 77us/step - loss: 0.2585 - acc: 0.9072 - val_loss: 0.3192 - val_acc: 0.8764\n",
      "Epoch 31/40\n",
      "15000/15000 [==============================] - 1s 81us/step - loss: 0.2506 - acc: 0.9121 - val_loss: 0.3154 - val_acc: 0.8772\n",
      "Epoch 32/40\n",
      "15000/15000 [==============================] - 1s 74us/step - loss: 0.2442 - acc: 0.9139 - val_loss: 0.3118 - val_acc: 0.8782\n",
      "Epoch 33/40\n",
      "15000/15000 [==============================] - 1s 82us/step - loss: 0.2371 - acc: 0.9163 - val_loss: 0.3088 - val_acc: 0.8788\n",
      "Epoch 34/40\n",
      "15000/15000 [==============================] - 1s 80us/step - loss: 0.2309 - acc: 0.9187 - val_loss: 0.3059 - val_acc: 0.8800\n",
      "Epoch 35/40\n",
      "15000/15000 [==============================] - 1s 79us/step - loss: 0.2255 - acc: 0.9197 - val_loss: 0.3032 - val_acc: 0.8792\n",
      "Epoch 36/40\n",
      "15000/15000 [==============================] - 1s 68us/step - loss: 0.2193 - acc: 0.9219 - val_loss: 0.3011 - val_acc: 0.8803\n",
      "Epoch 37/40\n",
      "15000/15000 [==============================] - 1s 81us/step - loss: 0.2140 - acc: 0.9248 - val_loss: 0.2995 - val_acc: 0.8820\n",
      "Epoch 38/40\n",
      "15000/15000 [==============================] - 1s 76us/step - loss: 0.2090 - acc: 0.9263 - val_loss: 0.2970 - val_acc: 0.8810\n",
      "Epoch 39/40\n",
      "15000/15000 [==============================] - 1s 89us/step - loss: 0.2037 - acc: 0.9286 - val_loss: 0.2956 - val_acc: 0.8814\n",
      "Epoch 40/40\n",
      "15000/15000 [==============================] - 1s 73us/step - loss: 0.1989 - acc: 0.9293 - val_loss: 0.2938 - val_acc: 0.8822\n"
     ]
    }
   ],
   "source": [
    "history = model.fit(partial_x_train,\n",
    "                    partial_y_train,\n",
    "                    epochs=40,\n",
    "                    batch_size=512,\n",
    "                    validation_data=(x_val, y_val),\n",
    "                    verbose=1)"
   ]
  },
  {
   "cell_type": "code",
   "execution_count": 14,
   "metadata": {},
   "outputs": [
    {
     "name": "stdout",
     "output_type": "stream",
     "text": [
      "25000/25000 [==============================] - 2s 71us/step\n",
      "[0.3080055837726593, 0.87416]\n"
     ]
    }
   ],
   "source": [
    "results = model.evaluate(test_data, test_labels)\n",
    "\n",
    "print(results)"
   ]
  },
  {
   "cell_type": "code",
   "execution_count": 17,
   "metadata": {},
   "outputs": [
    {
     "data": {
      "image/png": "[encoded data removed]",
      "text/plain": [
       "<Figure size 432x288 with 1 Axes>"
      ]
     },
     "metadata": {
      "needs_background": "light"
     },
     "output_type": "display_data"
    }
   ],
   "source": [
    "import matplotlib.pyplot as plt\n",
    "history_dict = history.history\n",
    "history_dict.keys()\n",
    "acc = history.history['acc']\n",
    "val_acc = history.history['val_acc']\n",
    "loss = history.history['loss']\n",
    "val_loss = history.history['val_loss']\n",
    "\n",
    "epochs = range(1, len(acc) + 1)\n",
    "\n",
    "# \"bo\" is for \"blue dot\"\n",
    "plt.plot(epochs, loss, 'bo', label='Training loss')\n",
    "# b is for \"solid blue line\"\n",
    "plt.plot(epochs, val_loss, 'b', label='Validation loss')\n",
    "plt.title('Training and validation loss')\n",
    "plt.xlabel('Epochs')\n",
    "plt.ylabel('Loss')\n",
    "plt.legend()\n",
    "\n",
    "plt.show()\n"
   ]
  },
  {
   "cell_type": "code",
   "execution_count": 18,
   "metadata": {},
   "outputs": [
    {
     "data": {
      "image/png": "[encoded data removed]",
      "text/plain": [
       "<Figure size 432x288 with 1 Axes>"
      ]
     },
     "metadata": {
      "needs_background": "light"
     },
     "output_type": "display_data"
    }
   ],
   "source": [
    "plt.clf()   # clear figure\n",
    "acc_values = history_dict['acc']\n",
    "val_acc_values = history_dict['val_acc']\n",
    "\n",
    "plt.plot(epochs, acc, 'bo', label='Training acc')\n",
    "plt.plot(epochs, val_acc, 'b', label='Validation acc')\n",
    "plt.title('Training and validation accuracy')\n",
    "plt.xlabel('Epochs')\n",
    "plt.ylabel('Accuracy')\n",
    "plt.legend()\n",
    "\n",
    "plt.show()\n"
   ]
  },
  {
   "cell_type": "code",
   "execution_count": null,
   "metadata": {},
   "outputs": [],
   "source": []
  }
 ],
 "metadata": {
  "kernelspec": {
   "display_name": "Python 3",
   "language": "python",
   "name": "python3"
  },
  "language_info": {
   "codemirror_mode": {
    "name": "ipython",
    "version": 3
   },
   "file_extension": ".py",
   "mimetype": "text/x-python",
   "name": "python",
   "nbconvert_exporter": "python",
   "pygments_lexer": "ipython3",
   "version": "3.6.4"
  }
 },
 "nbformat": 4,
 "nbformat_minor": 2
}
